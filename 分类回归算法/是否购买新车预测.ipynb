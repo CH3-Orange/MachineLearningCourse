{
 "cells": [
  {
   "cell_type": "markdown",
   "metadata": {},
   "source": [
    "# 利用分类模型预测是否购买新车\n",
    "\n",
    "<br>\n",
    "\n",
    "**数据集描述**\n",
    "背景知识：国外换车比较普遍。每当该款汽车有新车型发布时，人们往往愿意购买。\n",
    "某汽车公司有400条客户数据，包含客户ID、性别、年龄、工资、新车型发布时是否购买这5个字段。\n",
    "现在该公司又推出一款新车型，请问销售人员如何从老客户中找到欲购买新车型的客户呢？\n",
    "\n",
    "**字段解释**\n",
    "> User ID：字符串类型；客户ID\n",
    ">\n",
    "> Gender：字符串类型；性别；有2个值，分别是Male（男性）和Female（女性）\n",
    ">\n",
    "> Age：数值型；年龄\n",
    ">\n",
    "> EstimatedSalary：数值型；预估的客户工资\n",
    "> \n",
    "> Purchased：字符串类型；新车型发布时是否购买；有2个值，分别是0（每购买）和1（购买了）\n"
   ]
  },
  {
   "cell_type": "markdown",
   "metadata": {},
   "source": [
    "## 导入库"
   ]
  },
  {
   "cell_type": "code",
   "execution_count": 22,
   "metadata": {},
   "outputs": [],
   "source": [
    "import numpy as np\n",
    "import pandas as pd \n",
    "import matplotlib.pyplot as plt\n",
    "from sklearn.model_selection import train_test_split\n",
    "from sklearn.preprocessing import StandardScaler\n",
    "from sklearn.preprocessing import LabelEncoder"
   ]
  },
  {
   "cell_type": "markdown",
   "metadata": {},
   "source": [
    "## 导入数据集"
   ]
  },
  {
   "cell_type": "code",
   "execution_count": 8,
   "metadata": {},
   "outputs": [
    {
     "name": "stdout",
     "output_type": "stream",
     "text": [
      "<class 'pandas.core.frame.DataFrame'>\n",
      "RangeIndex: 400 entries, 0 to 399\n",
      "Data columns (total 5 columns):\n",
      " #   Column           Non-Null Count  Dtype \n",
      "---  ------           --------------  ----- \n",
      " 0   User ID          400 non-null    int64 \n",
      " 1   Gender           400 non-null    object\n",
      " 2   Age              400 non-null    int64 \n",
      " 3   EstimatedSalary  400 non-null    int64 \n",
      " 4   Purchased        400 non-null    int64 \n",
      "dtypes: int64(4), object(1)\n",
      "memory usage: 15.8+ KB\n"
     ]
    },
    {
     "data": {
      "text/html": [
       "<div>\n",
       "<style scoped>\n",
       "    .dataframe tbody tr th:only-of-type {\n",
       "        vertical-align: middle;\n",
       "    }\n",
       "\n",
       "    .dataframe tbody tr th {\n",
       "        vertical-align: top;\n",
       "    }\n",
       "\n",
       "    .dataframe thead th {\n",
       "        text-align: right;\n",
       "    }\n",
       "</style>\n",
       "<table border=\"1\" class=\"dataframe\">\n",
       "  <thead>\n",
       "    <tr style=\"text-align: right;\">\n",
       "      <th></th>\n",
       "      <th>User ID</th>\n",
       "      <th>Gender</th>\n",
       "      <th>Age</th>\n",
       "      <th>EstimatedSalary</th>\n",
       "      <th>Purchased</th>\n",
       "    </tr>\n",
       "  </thead>\n",
       "  <tbody>\n",
       "    <tr>\n",
       "      <th>0</th>\n",
       "      <td>15624510</td>\n",
       "      <td>Male</td>\n",
       "      <td>19</td>\n",
       "      <td>19000</td>\n",
       "      <td>0</td>\n",
       "    </tr>\n",
       "    <tr>\n",
       "      <th>1</th>\n",
       "      <td>15810944</td>\n",
       "      <td>Male</td>\n",
       "      <td>35</td>\n",
       "      <td>20000</td>\n",
       "      <td>0</td>\n",
       "    </tr>\n",
       "    <tr>\n",
       "      <th>2</th>\n",
       "      <td>15668575</td>\n",
       "      <td>Female</td>\n",
       "      <td>26</td>\n",
       "      <td>43000</td>\n",
       "      <td>0</td>\n",
       "    </tr>\n",
       "    <tr>\n",
       "      <th>3</th>\n",
       "      <td>15603246</td>\n",
       "      <td>Female</td>\n",
       "      <td>27</td>\n",
       "      <td>57000</td>\n",
       "      <td>0</td>\n",
       "    </tr>\n",
       "    <tr>\n",
       "      <th>4</th>\n",
       "      <td>15804002</td>\n",
       "      <td>Male</td>\n",
       "      <td>19</td>\n",
       "      <td>76000</td>\n",
       "      <td>0</td>\n",
       "    </tr>\n",
       "  </tbody>\n",
       "</table>\n",
       "</div>"
      ],
      "text/plain": [
       "    User ID  Gender  Age  EstimatedSalary  Purchased\n",
       "0  15624510    Male   19            19000          0\n",
       "1  15810944    Male   35            20000          0\n",
       "2  15668575  Female   26            43000          0\n",
       "3  15603246  Female   27            57000          0\n",
       "4  15804002    Male   19            76000          0"
      ]
     },
     "execution_count": 8,
     "metadata": {},
     "output_type": "execute_result"
    }
   ],
   "source": [
    "data=pd.read_csv(\"./data/Social_Network_Ads.csv\")\n",
    "data.info()\n",
    "data.head()"
   ]
  },
  {
   "cell_type": "markdown",
   "metadata": {},
   "source": [
    "## 数据预处理"
   ]
  },
  {
   "cell_type": "code",
   "execution_count": 9,
   "metadata": {},
   "outputs": [
    {
     "data": {
      "text/html": [
       "<div>\n",
       "<style scoped>\n",
       "    .dataframe tbody tr th:only-of-type {\n",
       "        vertical-align: middle;\n",
       "    }\n",
       "\n",
       "    .dataframe tbody tr th {\n",
       "        vertical-align: top;\n",
       "    }\n",
       "\n",
       "    .dataframe thead th {\n",
       "        text-align: right;\n",
       "    }\n",
       "</style>\n",
       "<table border=\"1\" class=\"dataframe\">\n",
       "  <thead>\n",
       "    <tr style=\"text-align: right;\">\n",
       "      <th></th>\n",
       "      <th>Gender</th>\n",
       "      <th>Age</th>\n",
       "      <th>EstimatedSalary</th>\n",
       "      <th>Purchased</th>\n",
       "    </tr>\n",
       "  </thead>\n",
       "  <tbody>\n",
       "    <tr>\n",
       "      <th>0</th>\n",
       "      <td>Male</td>\n",
       "      <td>19</td>\n",
       "      <td>19000</td>\n",
       "      <td>0</td>\n",
       "    </tr>\n",
       "    <tr>\n",
       "      <th>1</th>\n",
       "      <td>Male</td>\n",
       "      <td>35</td>\n",
       "      <td>20000</td>\n",
       "      <td>0</td>\n",
       "    </tr>\n",
       "    <tr>\n",
       "      <th>2</th>\n",
       "      <td>Female</td>\n",
       "      <td>26</td>\n",
       "      <td>43000</td>\n",
       "      <td>0</td>\n",
       "    </tr>\n",
       "    <tr>\n",
       "      <th>3</th>\n",
       "      <td>Female</td>\n",
       "      <td>27</td>\n",
       "      <td>57000</td>\n",
       "      <td>0</td>\n",
       "    </tr>\n",
       "    <tr>\n",
       "      <th>4</th>\n",
       "      <td>Male</td>\n",
       "      <td>19</td>\n",
       "      <td>76000</td>\n",
       "      <td>0</td>\n",
       "    </tr>\n",
       "  </tbody>\n",
       "</table>\n",
       "</div>"
      ],
      "text/plain": [
       "   Gender  Age  EstimatedSalary  Purchased\n",
       "0    Male   19            19000          0\n",
       "1    Male   35            20000          0\n",
       "2  Female   26            43000          0\n",
       "3  Female   27            57000          0\n",
       "4    Male   19            76000          0"
      ]
     },
     "execution_count": 9,
     "metadata": {},
     "output_type": "execute_result"
    }
   ],
   "source": [
    "### 删除无关列 NO.\n",
    "data.drop(['User ID'],axis=1,inplace=True)\n",
    "data.head()"
   ]
  },
  {
   "cell_type": "code",
   "execution_count": 10,
   "metadata": {},
   "outputs": [
    {
     "data": {
      "text/plain": [
       "Series([], dtype: int64)"
      ]
     },
     "execution_count": 10,
     "metadata": {},
     "output_type": "execute_result"
    }
   ],
   "source": [
    "### 填充空缺值 - 无空缺值\n",
    "def calcNull(data):\n",
    "    nullSum=data.isnull().sum()\n",
    "    nullSum=nullSum.drop(nullSum[nullSum.values==0].index)\n",
    "    return nullSum\n",
    "calcNull(data)"
   ]
  },
  {
   "cell_type": "code",
   "execution_count": 13,
   "metadata": {},
   "outputs": [
    {
     "name": "stdout",
     "output_type": "stream",
     "text": [
      "<class 'pandas.core.frame.DataFrame'>\n",
      "RangeIndex: 400 entries, 0 to 399\n",
      "Data columns (total 4 columns):\n",
      " #   Column           Non-Null Count  Dtype \n",
      "---  ------           --------------  ----- \n",
      " 0   Gender           400 non-null    object\n",
      " 1   Age              400 non-null    int64 \n",
      " 2   EstimatedSalary  400 non-null    int64 \n",
      " 3   Purchased        400 non-null    object\n",
      "dtypes: int64(2), object(2)\n",
      "memory usage: 12.6+ KB\n"
     ]
    }
   ],
   "source": [
    "### 将Purchased字段改为类别类型\n",
    "data['Purchased']=data['Purchased'].apply(str)\n",
    "data.info()"
   ]
  },
  {
   "cell_type": "code",
   "execution_count": 26,
   "metadata": {},
   "outputs": [
    {
     "data": {
      "text/plain": [
       "0    0\n",
       "1    0\n",
       "2    0\n",
       "3    0\n",
       "4    0\n",
       "Name: Purchased, dtype: object"
      ]
     },
     "execution_count": 26,
     "metadata": {},
     "output_type": "execute_result"
    }
   ],
   "source": [
    "## 分离自变量因变量\n",
    "X=data.iloc[:,:-1]\n",
    "# X.head()\n",
    "Y=data.iloc[:,-1]\n",
    "Y.head()"
   ]
  },
  {
   "cell_type": "code",
   "execution_count": 27,
   "metadata": {},
   "outputs": [
    {
     "data": {
      "text/plain": [
       "array([[ 1.02020406, -1.78179743, -1.49004624],\n",
       "       [ 1.02020406, -0.25358736, -1.46068138],\n",
       "       [-0.98019606, -1.11320552, -0.78528968],\n",
       "       ...,\n",
       "       [-0.98019606,  1.17910958, -1.46068138],\n",
       "       [ 1.02020406, -0.15807423, -1.07893824],\n",
       "       [-0.98019606,  1.08359645, -0.99084367]])"
      ]
     },
     "execution_count": 27,
     "metadata": {},
     "output_type": "execute_result"
    }
   ],
   "source": [
    "## 特征缩放\n",
    "LE=LabelEncoder()\n",
    "X[\"Gender\"]=LE.fit_transform(X[\"Gender\"])\n",
    "SC= StandardScaler()\n",
    "X=SC.fit_transform(X)"
   ]
  },
  {
   "cell_type": "code",
   "execution_count": 28,
   "metadata": {},
   "outputs": [
    {
     "name": "stdout",
     "output_type": "stream",
     "text": [
      "(280, 3) (120, 3) (280,) (120,)\n"
     ]
    }
   ],
   "source": [
    "## 拆分训练集和测试集\n",
    "X_train, X_test, Y_train, Y_test = train_test_split(X, Y, test_size = 0.3)\n",
    "print(X_train.shape,X_test.shape,Y_train.shape,Y_test.shape)\n"
   ]
  },
  {
   "cell_type": "markdown",
   "metadata": {},
   "source": [
    "## 使用KNN进行训练\n",
    "\n",
    "### sklearn.neighbors.KNeighborsClassifier 简单解释\n",
    "\n",
    "``` python\n",
    "class sklearn.neighbors.KNeighborsClassifier(n_neighbors=5, weights=’uniform’, \n",
    "\t\t\t\t\t\t\t\t\t\t\talgorithm=’auto’, leaf_size=30, \n",
    "\t\t\t\t\t\t\t\t\t\t\tp=2, metric=’minkowski’, \n",
    "\t\t\t\t\t\t\t\t\t\t\tmetric_params=None, \n",
    "\t\t\t\t\t\t\t\t\t\t\tn_jobs=None, **kwargs)\n",
    "```\n",
    "[api详解](https://www.cnblogs.com/pinard/p/6065607.html)\n",
    "> - **n_neighbors** ： int，optional(default = 5)\n",
    "> 默认情况下kneighbors查询使用的邻居数。就是k-NN的k的值，选取最近的k个点。\n",
    ">\n",
    "> - **weights** ： str或callable，可选(默认=‘uniform’)\n",
    "> 默认是uniform，参数可以是uniform、distance，也可以是用户自己定义的函数。uniform是均等的权重，就说所有的邻近点的权重都是相等的。distance是不均等的权重，距离近的点比距离远的点的影响大。用户自定义的函数，接收距离的数组，返回一组维数相同的权重。\n",
    "> \n",
    "> - **algorithm** ： {‘auto’，‘ball_tree’，‘kd_tree’，‘brute’}，可选\n",
    "> 快速k近邻搜索算法，默认参数为auto，可以理解为算法自己决定合适的搜索算法。除此之外，用户也可以自己指定搜索算法ball_tree、kd_tree、brute方法进行搜索，brute是蛮力搜索，也就是线性扫描，当训练集很大时，计算非常耗时。kd_tree，构造kd树存储数据以便对其进行快速检索的树形数据结构，kd树也就是数据结构中的二叉树。以中值切分构造的树，每个结点是一个超矩形，在维数小于20时效率高。ball tree是为了克服kd树高纬失效而发明的，其构造过程是以质心C和半径r分割样本空间，每个节点是一个超球体。\n",
    "> \n",
    "> - **leaf_size** ： int，optional(默认值= 30)\n",
    "> 默认是30，这个是构造的kd树和ball树的大小。这个值的设置会影响树构建的速度和搜索速度，同样也影响着存储树所需的内存大小。需要根据问题的性质选择最优的大小。\n",
    "> \n",
    "> - **p** ： 整数，可选(默认= 2) \n",
    "> p是使用距离度量参数 metric 附属参数，只用于闵可夫斯基距离和带权重闵可夫斯基距离中p值的选择，p=1为曼哈顿距离， p=2为欧式距离。默认为2\n",
    "> \n",
    "> - **metric** ： 字符串或可调用，默认为’minkowski’\n",
    "> 用于距离度量，默认度量是minkowski，也就是p=2的欧氏距离(欧几里德度量)。\n",
    "> \n",
    "> - **metric_params** ： dict，optional(默认=None)\n",
    "> 距离公式的其他关键参数，这个可以不管，使用默认的None即可。\n",
    "> \n",
    "> - **n_jobs** ： int或None，可选(默认=None)\n",
    "> 并行处理设置。默认为1，临近点搜索并行工作数。如果为-1，那么CPU的所有cores都用于并行工作。"
   ]
  },
  {
   "cell_type": "code",
   "execution_count": 58,
   "metadata": {},
   "outputs": [
    {
     "data": {
      "text/plain": [
       "KNeighborsClassifier()"
      ]
     },
     "execution_count": 58,
     "metadata": {},
     "output_type": "execute_result"
    }
   ],
   "source": [
    "### 构建并训练模型\n",
    "from sklearn.neighbors import KNeighborsClassifier\n",
    "cf = KNeighborsClassifier(n_neighbors = 5)\n",
    "cf.fit(X_train, Y_train)"
   ]
  },
  {
   "cell_type": "code",
   "execution_count": 59,
   "metadata": {},
   "outputs": [
    {
     "data": {
      "text/plain": [
       "array(['0', '1', '0', '0', '0', '0', '1', '0', '0', '0', '0', '1', '1',\n",
       "       '1', '1', '0', '1', '1', '0', '1', '0', '0', '0', '0', '0', '0',\n",
       "       '1', '1', '0', '0', '0', '1', '1', '0', '1', '0', '0', '1', '1',\n",
       "       '1', '0', '0', '0', '0', '0', '0', '0', '0', '0', '0', '1', '0',\n",
       "       '0', '0', '0', '1', '1', '0', '0', '1', '0', '0', '1', '1', '1',\n",
       "       '1', '1', '0', '1', '0', '0', '1', '0', '0', '1', '1', '0', '1',\n",
       "       '0', '0', '1', '1', '1', '0', '1', '0', '0', '0', '1', '0', '0',\n",
       "       '1', '0', '1', '0', '1', '0', '0', '1', '1', '0', '1', '0', '0',\n",
       "       '0', '1', '1', '0', '0', '0', '1', '1', '0', '0', '0', '1', '0',\n",
       "       '0', '0', '0'], dtype=object)"
      ]
     },
     "execution_count": 59,
     "metadata": {},
     "output_type": "execute_result"
    }
   ],
   "source": [
    "### 预测模型\n",
    "Y_pre=cf.predict(X_test)\n",
    "Y_pre"
   ]
  },
  {
   "cell_type": "code",
   "execution_count": 60,
   "metadata": {},
   "outputs": [
    {
     "name": "stdout",
     "output_type": "stream",
     "text": [
      "混淆矩阵: [[70  7]\n",
      " [ 3 40]]\n",
      "准确度: 0.9166666666666666\n"
     ]
    }
   ],
   "source": [
    "### 生成混淆矩阵\n",
    "from sklearn.metrics import confusion_matrix\n",
    "cm = confusion_matrix(Y_test, Y_pre)\n",
    "print(\"混淆矩阵:\",cm)\n",
    "print(\"准确度:\",(cm[0][0]+cm[1][1])/cm.sum())"
   ]
  },
  {
   "cell_type": "code",
   "execution_count": 67,
   "metadata": {},
   "outputs": [
    {
     "name": "stdout",
     "output_type": "stream",
     "text": [
      "--------n_neighbors=1--------\n",
      "准确度: 0.8583333333333333\n",
      "混淆矩阵: [[66 11]\n",
      " [ 6 37]]\n",
      "--------n_neighbors=2--------\n",
      "准确度: 0.8666666666666667\n",
      "混淆矩阵: [[72  5]\n",
      " [11 32]]\n",
      "--------n_neighbors=3--------\n",
      "准确度: 0.9083333333333333\n",
      "混淆矩阵: [[70  7]\n",
      " [ 4 39]]\n",
      "--------n_neighbors=4--------\n",
      "准确度: 0.9166666666666666\n",
      "混淆矩阵: [[71  6]\n",
      " [ 4 39]]\n",
      "--------n_neighbors=5--------\n",
      "准确度: 0.9166666666666666\n",
      "混淆矩阵: [[70  7]\n",
      " [ 3 40]]\n",
      "--------n_neighbors=6--------\n",
      "准确度: 0.9166666666666666\n",
      "混淆矩阵: [[71  6]\n",
      " [ 4 39]]\n",
      "--------n_neighbors=7--------\n",
      "准确度: 0.9\n",
      "混淆矩阵: [[68  9]\n",
      " [ 3 40]]\n",
      "--------n_neighbors=8--------\n",
      "准确度: 0.9083333333333333\n",
      "混淆矩阵: [[70  7]\n",
      " [ 4 39]]\n",
      "--------n_neighbors=9--------\n",
      "准确度: 0.9083333333333333\n",
      "混淆矩阵: [[69  8]\n",
      " [ 3 40]]\n",
      "--------n_neighbors=10--------\n",
      "准确度: 0.9083333333333333\n",
      "混淆矩阵: [[69  8]\n",
      " [ 3 40]]\n",
      "--------n_neighbors=11--------\n",
      "准确度: 0.9083333333333333\n",
      "混淆矩阵: [[69  8]\n",
      " [ 3 40]]\n",
      "--------n_neighbors=12--------\n",
      "准确度: 0.8916666666666667\n",
      "混淆矩阵: [[70  7]\n",
      " [ 6 37]]\n",
      "--------n_neighbors=13--------\n",
      "准确度: 0.8916666666666667\n",
      "混淆矩阵: [[70  7]\n",
      " [ 6 37]]\n",
      "--------n_neighbors=14--------\n",
      "准确度: 0.8916666666666667\n",
      "混淆矩阵: [[70  7]\n",
      " [ 6 37]]\n",
      "--------n_neighbors=15--------\n",
      "准确度: 0.9\n",
      "混淆矩阵: [[70  7]\n",
      " [ 5 38]]\n",
      "--------n_neighbors=16--------\n",
      "准确度: 0.9\n",
      "混淆矩阵: [[70  7]\n",
      " [ 5 38]]\n",
      "--------n_neighbors=17--------\n",
      "准确度: 0.9083333333333333\n",
      "混淆矩阵: [[70  7]\n",
      " [ 4 39]]\n",
      "--------n_neighbors=18--------\n",
      "准确度: 0.9\n",
      "混淆矩阵: [[70  7]\n",
      " [ 5 38]]\n",
      "--------n_neighbors=19--------\n",
      "准确度: 0.9083333333333333\n",
      "混淆矩阵: [[70  7]\n",
      " [ 4 39]]\n",
      "--------n_neighbors=20--------\n",
      "准确度: 0.8833333333333333\n",
      "混淆矩阵: [[70  7]\n",
      " [ 7 36]]\n",
      "--------n_neighbors=21--------\n",
      "准确度: 0.8833333333333333\n",
      "混淆矩阵: [[70  7]\n",
      " [ 7 36]]\n",
      "--------n_neighbors=22--------\n",
      "准确度: 0.8583333333333333\n",
      "混淆矩阵: [[70  7]\n",
      " [10 33]]\n",
      "--------n_neighbors=23--------\n",
      "准确度: 0.8583333333333333\n",
      "混淆矩阵: [[70  7]\n",
      " [10 33]]\n",
      "--------n_neighbors=24--------\n",
      "准确度: 0.8666666666666667\n",
      "混淆矩阵: [[71  6]\n",
      " [10 33]]\n",
      "--------n_neighbors=25--------\n",
      "准确度: 0.8666666666666667\n",
      "混淆矩阵: [[70  7]\n",
      " [ 9 34]]\n",
      "--------n_neighbors=26--------\n",
      "准确度: 0.8583333333333333\n",
      "混淆矩阵: [[70  7]\n",
      " [10 33]]\n",
      "--------n_neighbors=27--------\n",
      "准确度: 0.8583333333333333\n",
      "混淆矩阵: [[70  7]\n",
      " [10 33]]\n",
      "--------n_neighbors=28--------\n",
      "准确度: 0.85\n",
      "混淆矩阵: [[72  5]\n",
      " [13 30]]\n",
      "--------n_neighbors=29--------\n",
      "准确度: 0.85\n",
      "混淆矩阵: [[71  6]\n",
      " [12 31]]\n",
      "--------n_neighbors=30--------\n",
      "准确度: 0.85\n",
      "混淆矩阵: [[73  4]\n",
      " [14 29]]\n",
      "最优的neighbors为4,准确度为0.917\n"
     ]
    }
   ],
   "source": [
    "### 挑选最优参\n",
    "def search_best_neighbors(st,ed):\n",
    "    best_score=0\n",
    "    best_i=0;\n",
    "    for i in range(st,ed+1):\n",
    "        cf = KNeighborsClassifier(n_neighbors = i)\n",
    "        cf.fit(X_train, Y_train)\n",
    "        Y_pre=cf.predict(X_test)\n",
    "        Y_pre\n",
    "        cm = confusion_matrix(Y_test, Y_pre)\n",
    "        print(\"--------n_neighbors=\"+str(i)+\"--------\")\n",
    "        print(\"准确度:\",(cm[0][0]+cm[1][1])/cm.sum())\n",
    "        print(\"混淆矩阵:\",cm)\n",
    "        if((cm[0][0]+cm[1][1])/cm.sum()>best_score):\n",
    "            best_i=i\n",
    "            best_score=(cm[0][0]+cm[1][1])/cm.sum()\n",
    "    return best_i,best_score\n",
    "        \n",
    "best_i,best_score=search_best_neighbors(1,30)\n",
    "print(\"最优的neighbors为%d,准确度为%.3f\"%(best_i,best_score))"
   ]
  },
  {
   "cell_type": "code",
   "execution_count": 69,
   "metadata": {},
   "outputs": [
    {
     "name": "stdout",
     "output_type": "stream",
     "text": [
      "混淆矩阵: [[69  8]\n",
      " [ 7 36]]\n",
      "准确度: 0.875\n"
     ]
    }
   ],
   "source": [
    "# 使用朴素贝叶斯模型进行训练\n",
    "from sklearn.naive_bayes import GaussianNB\n",
    "cf = GaussianNB()\n",
    "cf.fit(X_train, Y_train)\n",
    "### 预测模型\n",
    "Y_pre=cf.predict(X_test)\n",
    "Y_pre\n",
    "### 生成混淆矩阵\n",
    "from sklearn.metrics import confusion_matrix\n",
    "cm = confusion_matrix(Y_test, Y_pre)\n",
    "print(\"混淆矩阵:\",cm)\n",
    "print(\"准确度:\",(cm[0][0]+cm[1][1])/cm.sum())"
   ]
  },
  {
   "cell_type": "markdown",
   "metadata": {},
   "source": [
    "## 使用 LogisticRegression逻辑回归模型\n",
    "\n",
    "```python\n",
    "class sklearn.linear_model.LogisticRegression(penalty='l2', *, dual=False, tol=0.0001, C=1.0, fit_intercept=True, intercept_scaling=1, class_weight=None, random_state=None, solver='lbfgs', max_iter=100, multi_class='auto', verbose=0, warm_start=False, n_jobs=None, l1_ratio=None)\n",
    "```\n",
    "[api参数详解](https://blog.csdn.net/jark_/article/details/78342644)\n",
    "\n",
    "> penalty：惩罚项，str类型，可选参数为l1和l2，默认为l2。用于指定惩罚项中使用的规范。newton-cg、sag和lbfgs求解算法只支持L2规范。L1G规范假设的是模型的参数满足拉普拉斯分布，L2假设的模型参数满足高斯分布，所谓的范式就是加上对参数的约束，使得模型更不会过拟合(overfit)，但是如果要说是不是加了约束就会好，这个没有人能回答，只能说，加约束的情况下，理论上应该可以获得泛化能力更强的结果。\n",
    ">\n",
    "> dual：对偶或原始方法，bool类型，默认为False。对偶方法只用在求解线性多核(liblinear)的L2惩罚项上。当样本数量>样本特征的时候，dual通常设置为False。\n",
    ">\n",
    "> tol：停止求解的标准，float类型，默认为1e-4。就是求解到多少的时候，停止，认为已经求出最优解。\n",
    ">\n",
    "> c：正则化系数λ的倒数，float类型，默认为1.0。必须是正浮点型数。像SVM一样，越小的数值表示越强的正则化。\n",
    ">\n",
    "> fit_intercept：是否存在截距或偏差，bool类型，默认为True。\n",
    ">\n",
    "> intercept_scaling：仅在正则化项为”liblinear”，且fit_intercept设置为True时有用。float类型，默认为1。\n",
    ">\n",
    "> class_weight：用于标示分类模型中各种类型的权重，可以是一个字典或者’balanced’字符串，默认为不输入，也就是不考虑权重，即为None。如果选择输入的话，可以选择balanced让类库自己计算类型权重，或者自己输入各个类型的权重。举个例子，比如对于0,1的二元模型，我们可以定义class_weight={0:0.9,1:0.1}，这样类型0的权重为90%，而类型1的权重为10%。如果class_weight选择balanced，那么类库会根据训练样本量来计算权重。某种类型样本量越多，则权重越低，样本量越少，则权重越高。当class_weight为balanced时，类权重计算方法如下：n_samples / (n_classes * np.bincount(y))。n_samples为样本数，n_classes为类别数量，np.bincount(y)会输出每个类的样本数，例如y=[1,0,0,1,1],则np.bincount(y)=[2,3]。\n",
    ">\n",
    "> random_state：随机数种子，int类型，可选参数，默认为无，仅在正则化优化算法为sag,liblinear时有用。\n",
    ">\n",
    "> solver：优化算法选择参数，只有五个可选参数，即newton-cg,lbfgs,liblinear,sag,saga。默认为liblinear。solver参数决定了我们对逻辑回归损失函数的优化方法，有四种算法可以选择，分别是：\n",
    "> - liblinear：使用了开源的liblinear库实现，内部使用了坐标轴下降法来迭代优化损失函数。\n",
    "> - lbfgs：拟牛顿法的一种，利用损失函数二阶导数矩阵即海森矩阵来迭代优化损失函数。\n",
    "> - newton-cg：也是牛顿法家族的一种，利用损失函数二阶导数矩阵即海森矩阵来迭代优化损失函数。\n",
    "> - sag：即随机平均梯度下降，是梯度下降法的变种，和普通梯度下降法的区别是每次迭代仅仅用一部分的样本来计算梯度，适合于样本数据多的时候。\n",
    "> - saga：线性收敛的随机优化算法的的变重。\n",
    ">\n",
    "> max_iter：算法收敛最大迭代次数，int类型，默认为10。仅在正则化优化算法为newton-cg, sag和lbfgs才有用，算法收敛的最大迭代次数。\n",
    ">\n",
    "> multi_class：分类方式选择参数，str类型，可选参数为ovr和multinomial，默认为ovr。ovr即前面提到的one-vs-rest(OvR)，而multinomial即前面提到的many-vs-many(MvM)。如果是二元逻辑回归，ovr和multinomial并没有任何区别，区别主要在多元逻辑回归上。\n",
    ">\n",
    "> verbose：日志冗长度，int类型。默认为0。就是不输出训练过程，1的时候偶尔输出结果，大于1，对于每个子模型都输出。\n",
    ">\n",
    "> warm_start：热启动参数，bool类型。默认为False。如果为True，则下一次训练是以追加树的形式进行（重新使用上一次的调用作为初始化）。\n",
    ">\n",
    "> n_jobs：并行数。int类型，默认为1。1的时候，用CPU的一个内核运行程序，2的时候，用CPU的2个内核运行程序。为-1的时候，用所有CPU的内核运行程序。\n"
   ]
  },
  {
   "cell_type": "code",
   "execution_count": 71,
   "metadata": {},
   "outputs": [
    {
     "name": "stdout",
     "output_type": "stream",
     "text": [
      "混淆矩阵: [[69  8]\n",
      " [ 7 36]]\n",
      "准确度: 0.875\n"
     ]
    }
   ],
   "source": [
    "# 构建逻辑回归模型并训练模型\n",
    "from sklearn.linear_model import LogisticRegression\n",
    "classifier = LogisticRegression( class_weight='balanced')\n",
    "classifier.fit(X_train, Y_train)\n",
    "### 预测模型\n",
    "Y_pre=cf.predict(X_test)\n",
    "Y_pre\n",
    "### 生成混淆矩阵\n",
    "from sklearn.metrics import confusion_matrix\n",
    "cm = confusion_matrix(Y_test, Y_pre)\n",
    "print(\"混淆矩阵:\",cm)\n",
    "print(\"准确度:\",(cm[0][0]+cm[1][1])/cm.sum())"
   ]
  },
  {
   "cell_type": "code",
   "execution_count": null,
   "metadata": {},
   "outputs": [],
   "source": []
  }
 ],
 "metadata": {
  "kernelspec": {
   "display_name": "Python [conda env:mlLearn]",
   "language": "python",
   "name": "conda-env-mlLearn-py"
  },
  "language_info": {
   "codemirror_mode": {
    "name": "ipython",
    "version": 3
   },
   "file_extension": ".py",
   "mimetype": "text/x-python",
   "name": "python",
   "nbconvert_exporter": "python",
   "pygments_lexer": "ipython3",
   "version": "3.8.11"
  }
 },
 "nbformat": 4,
 "nbformat_minor": 4
}
