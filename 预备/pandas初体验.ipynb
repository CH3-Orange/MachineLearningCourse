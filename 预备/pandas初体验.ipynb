{
 "cells": [
  {
   "cell_type": "markdown",
   "metadata": {},
   "source": [
    "# 案例： 利用pandas DataFrame展示股票数据"
   ]
  },
  {
   "cell_type": "code",
   "execution_count": 7,
   "metadata": {},
   "outputs": [],
   "source": [
    "import pandas as pd \n",
    "import numpy as np"
   ]
  },
  {
   "cell_type": "code",
   "execution_count": 16,
   "metadata": {},
   "outputs": [
    {
     "data": {
      "text/html": [
       "<div>\n",
       "<style scoped>\n",
       "    .dataframe tbody tr th:only-of-type {\n",
       "        vertical-align: middle;\n",
       "    }\n",
       "\n",
       "    .dataframe tbody tr th {\n",
       "        vertical-align: top;\n",
       "    }\n",
       "\n",
       "    .dataframe thead th {\n",
       "        text-align: right;\n",
       "    }\n",
       "</style>\n",
       "<table border=\"1\" class=\"dataframe\">\n",
       "  <thead>\n",
       "    <tr style=\"text-align: right;\">\n",
       "      <th></th>\n",
       "      <th>0</th>\n",
       "      <th>1</th>\n",
       "      <th>2</th>\n",
       "      <th>3</th>\n",
       "      <th>4</th>\n",
       "    </tr>\n",
       "  </thead>\n",
       "  <tbody>\n",
       "    <tr>\n",
       "      <th>0</th>\n",
       "      <td>1.777786</td>\n",
       "      <td>-0.165229</td>\n",
       "      <td>-1.248414</td>\n",
       "      <td>0.428381</td>\n",
       "      <td>0.162107</td>\n",
       "    </tr>\n",
       "    <tr>\n",
       "      <th>1</th>\n",
       "      <td>-0.740053</td>\n",
       "      <td>-0.667843</td>\n",
       "      <td>-0.031035</td>\n",
       "      <td>-0.885585</td>\n",
       "      <td>0.626603</td>\n",
       "    </tr>\n",
       "    <tr>\n",
       "      <th>2</th>\n",
       "      <td>0.218838</td>\n",
       "      <td>-0.232227</td>\n",
       "      <td>1.186746</td>\n",
       "      <td>-0.060380</td>\n",
       "      <td>0.829660</td>\n",
       "    </tr>\n",
       "    <tr>\n",
       "      <th>3</th>\n",
       "      <td>0.273506</td>\n",
       "      <td>0.894373</td>\n",
       "      <td>0.298251</td>\n",
       "      <td>0.652683</td>\n",
       "      <td>0.325505</td>\n",
       "    </tr>\n",
       "    <tr>\n",
       "      <th>4</th>\n",
       "      <td>-1.416375</td>\n",
       "      <td>-1.249694</td>\n",
       "      <td>-0.051167</td>\n",
       "      <td>0.082797</td>\n",
       "      <td>0.123529</td>\n",
       "    </tr>\n",
       "    <tr>\n",
       "      <th>5</th>\n",
       "      <td>2.219333</td>\n",
       "      <td>-0.009838</td>\n",
       "      <td>-0.225918</td>\n",
       "      <td>1.794931</td>\n",
       "      <td>1.190642</td>\n",
       "    </tr>\n",
       "    <tr>\n",
       "      <th>6</th>\n",
       "      <td>1.067185</td>\n",
       "      <td>0.608478</td>\n",
       "      <td>0.985905</td>\n",
       "      <td>-0.397599</td>\n",
       "      <td>0.063015</td>\n",
       "    </tr>\n",
       "    <tr>\n",
       "      <th>7</th>\n",
       "      <td>0.243622</td>\n",
       "      <td>0.613167</td>\n",
       "      <td>-0.251973</td>\n",
       "      <td>-0.982348</td>\n",
       "      <td>-0.955142</td>\n",
       "    </tr>\n",
       "    <tr>\n",
       "      <th>8</th>\n",
       "      <td>-1.194325</td>\n",
       "      <td>1.241702</td>\n",
       "      <td>-0.783110</td>\n",
       "      <td>-0.004966</td>\n",
       "      <td>-1.527100</td>\n",
       "    </tr>\n",
       "    <tr>\n",
       "      <th>9</th>\n",
       "      <td>-0.202519</td>\n",
       "      <td>-0.018566</td>\n",
       "      <td>-0.826115</td>\n",
       "      <td>-0.316024</td>\n",
       "      <td>0.676027</td>\n",
       "    </tr>\n",
       "  </tbody>\n",
       "</table>\n",
       "</div>"
      ],
      "text/plain": [
       "          0         1         2         3         4\n",
       "0  1.777786 -0.165229 -1.248414  0.428381  0.162107\n",
       "1 -0.740053 -0.667843 -0.031035 -0.885585  0.626603\n",
       "2  0.218838 -0.232227  1.186746 -0.060380  0.829660\n",
       "3  0.273506  0.894373  0.298251  0.652683  0.325505\n",
       "4 -1.416375 -1.249694 -0.051167  0.082797  0.123529\n",
       "5  2.219333 -0.009838 -0.225918  1.794931  1.190642\n",
       "6  1.067185  0.608478  0.985905 -0.397599  0.063015\n",
       "7  0.243622  0.613167 -0.251973 -0.982348 -0.955142\n",
       "8 -1.194325  1.241702 -0.783110 -0.004966 -1.527100\n",
       "9 -0.202519 -0.018566 -0.826115 -0.316024  0.676027"
      ]
     },
     "execution_count": 16,
     "metadata": {},
     "output_type": "execute_result"
    }
   ],
   "source": [
    "stock_data=np.random.normal(0,1,(10,5)) # 生成正态分布的随机数据\n",
    "stock_rise=pd.DataFrame(stock_data)\n",
    "stock_rise"
   ]
  },
  {
   "cell_type": "code",
   "execution_count": null,
   "metadata": {},
   "outputs": [],
   "source": []
  },
  {
   "cell_type": "code",
   "execution_count": null,
   "metadata": {},
   "outputs": [],
   "source": []
  }
 ],
 "metadata": {
  "kernelspec": {
   "display_name": "Python 3",
   "language": "python",
   "name": "python3"
  },
  "language_info": {
   "codemirror_mode": {
    "name": "ipython",
    "version": 3
   },
   "file_extension": ".py",
   "mimetype": "text/x-python",
   "name": "python",
   "nbconvert_exporter": "python",
   "pygments_lexer": "ipython3",
   "version": "3.8.5"
  }
 },
 "nbformat": 4,
 "nbformat_minor": 4
}
