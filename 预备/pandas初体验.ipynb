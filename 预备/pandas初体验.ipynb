{
 "cells": [
  {
   "cell_type": "markdown",
   "metadata": {},
   "source": [
    "# 案例： 利用pandas DataFrame展示股票数据"
   ]
  },
  {
   "cell_type": "code",
   "execution_count": 2,
   "metadata": {},
   "outputs": [],
   "source": [
    "import pandas as pd \n",
    "import numpy as np"
   ]
  },
  {
   "cell_type": "code",
   "execution_count": 19,
   "metadata": {},
   "outputs": [
    {
     "data": {
      "text/html": [
       "<div>\n",
       "<style scoped>\n",
       "    .dataframe tbody tr th:only-of-type {\n",
       "        vertical-align: middle;\n",
       "    }\n",
       "\n",
       "    .dataframe tbody tr th {\n",
       "        vertical-align: top;\n",
       "    }\n",
       "\n",
       "    .dataframe thead th {\n",
       "        text-align: right;\n",
       "    }\n",
       "</style>\n",
       "<table border=\"1\" class=\"dataframe\">\n",
       "  <thead>\n",
       "    <tr style=\"text-align: right;\">\n",
       "      <th></th>\n",
       "      <th>0</th>\n",
       "      <th>1</th>\n",
       "      <th>2</th>\n",
       "      <th>3</th>\n",
       "      <th>4</th>\n",
       "    </tr>\n",
       "  </thead>\n",
       "  <tbody>\n",
       "    <tr>\n",
       "      <th>0</th>\n",
       "      <td>-0.801466</td>\n",
       "      <td>1.000687</td>\n",
       "      <td>-1.616360</td>\n",
       "      <td>0.864033</td>\n",
       "      <td>-0.949225</td>\n",
       "    </tr>\n",
       "    <tr>\n",
       "      <th>1</th>\n",
       "      <td>-0.632975</td>\n",
       "      <td>0.697405</td>\n",
       "      <td>-0.772254</td>\n",
       "      <td>0.411194</td>\n",
       "      <td>-0.761483</td>\n",
       "    </tr>\n",
       "    <tr>\n",
       "      <th>2</th>\n",
       "      <td>-1.445016</td>\n",
       "      <td>0.520633</td>\n",
       "      <td>1.339346</td>\n",
       "      <td>0.370395</td>\n",
       "      <td>0.727232</td>\n",
       "    </tr>\n",
       "    <tr>\n",
       "      <th>3</th>\n",
       "      <td>1.083540</td>\n",
       "      <td>0.381987</td>\n",
       "      <td>-0.201545</td>\n",
       "      <td>-0.150898</td>\n",
       "      <td>0.291363</td>\n",
       "    </tr>\n",
       "    <tr>\n",
       "      <th>4</th>\n",
       "      <td>0.239147</td>\n",
       "      <td>1.148558</td>\n",
       "      <td>-1.548146</td>\n",
       "      <td>1.878244</td>\n",
       "      <td>0.136405</td>\n",
       "    </tr>\n",
       "    <tr>\n",
       "      <th>5</th>\n",
       "      <td>-1.614759</td>\n",
       "      <td>-1.339156</td>\n",
       "      <td>-0.789040</td>\n",
       "      <td>-1.454814</td>\n",
       "      <td>-0.365117</td>\n",
       "    </tr>\n",
       "    <tr>\n",
       "      <th>6</th>\n",
       "      <td>-0.332384</td>\n",
       "      <td>-1.661991</td>\n",
       "      <td>1.545783</td>\n",
       "      <td>-0.651150</td>\n",
       "      <td>1.707417</td>\n",
       "    </tr>\n",
       "    <tr>\n",
       "      <th>7</th>\n",
       "      <td>0.102784</td>\n",
       "      <td>-0.721659</td>\n",
       "      <td>-0.088639</td>\n",
       "      <td>-0.370308</td>\n",
       "      <td>1.472104</td>\n",
       "    </tr>\n",
       "    <tr>\n",
       "      <th>8</th>\n",
       "      <td>-0.831808</td>\n",
       "      <td>0.664394</td>\n",
       "      <td>-0.905977</td>\n",
       "      <td>-1.152816</td>\n",
       "      <td>1.696795</td>\n",
       "    </tr>\n",
       "    <tr>\n",
       "      <th>9</th>\n",
       "      <td>-0.073434</td>\n",
       "      <td>-0.047833</td>\n",
       "      <td>1.080579</td>\n",
       "      <td>-0.600350</td>\n",
       "      <td>-0.607440</td>\n",
       "    </tr>\n",
       "  </tbody>\n",
       "</table>\n",
       "</div>"
      ],
      "text/plain": [
       "          0         1         2         3         4\n",
       "0 -0.801466  1.000687 -1.616360  0.864033 -0.949225\n",
       "1 -0.632975  0.697405 -0.772254  0.411194 -0.761483\n",
       "2 -1.445016  0.520633  1.339346  0.370395  0.727232\n",
       "3  1.083540  0.381987 -0.201545 -0.150898  0.291363\n",
       "4  0.239147  1.148558 -1.548146  1.878244  0.136405\n",
       "5 -1.614759 -1.339156 -0.789040 -1.454814 -0.365117\n",
       "6 -0.332384 -1.661991  1.545783 -0.651150  1.707417\n",
       "7  0.102784 -0.721659 -0.088639 -0.370308  1.472104\n",
       "8 -0.831808  0.664394 -0.905977 -1.152816  1.696795\n",
       "9 -0.073434 -0.047833  1.080579 -0.600350 -0.607440"
      ]
     },
     "execution_count": 19,
     "metadata": {},
     "output_type": "execute_result"
    }
   ],
   "source": [
    "stock_data=np.random.normal(0,1,(10,5)) # 生成正态分布的随机数据\n",
    "stock_rise=pd.DataFrame(stock_data)\n",
    "stock_rise"
   ]
  },
  {
   "cell_type": "code",
   "execution_count": 18,
   "metadata": {},
   "outputs": [
    {
     "data": {
      "text/html": [
       "<div>\n",
       "<style scoped>\n",
       "    .dataframe tbody tr th:only-of-type {\n",
       "        vertical-align: middle;\n",
       "    }\n",
       "\n",
       "    .dataframe tbody tr th {\n",
       "        vertical-align: top;\n",
       "    }\n",
       "\n",
       "    .dataframe thead th {\n",
       "        text-align: right;\n",
       "    }\n",
       "</style>\n",
       "<table border=\"1\" class=\"dataframe\">\n",
       "  <thead>\n",
       "    <tr style=\"text-align: right;\">\n",
       "      <th></th>\n",
       "      <th>key</th>\n",
       "      <th>sales</th>\n",
       "    </tr>\n",
       "  </thead>\n",
       "  <tbody>\n",
       "    <tr>\n",
       "      <th>0</th>\n",
       "      <td>A</td>\n",
       "      <td>10</td>\n",
       "    </tr>\n",
       "    <tr>\n",
       "      <th>1</th>\n",
       "      <td>B</td>\n",
       "      <td>15</td>\n",
       "    </tr>\n",
       "    <tr>\n",
       "      <th>2</th>\n",
       "      <td>C</td>\n",
       "      <td>20</td>\n",
       "    </tr>\n",
       "    <tr>\n",
       "      <th>3</th>\n",
       "      <td>A</td>\n",
       "      <td>10</td>\n",
       "    </tr>\n",
       "    <tr>\n",
       "      <th>4</th>\n",
       "      <td>B</td>\n",
       "      <td>15</td>\n",
       "    </tr>\n",
       "    <tr>\n",
       "      <th>5</th>\n",
       "      <td>A</td>\n",
       "      <td>10</td>\n",
       "    </tr>\n",
       "    <tr>\n",
       "      <th>6</th>\n",
       "      <td>A</td>\n",
       "      <td>10</td>\n",
       "    </tr>\n",
       "  </tbody>\n",
       "</table>\n",
       "</div>"
      ],
      "text/plain": [
       "  key  sales\n",
       "0   A     10\n",
       "1   B     15\n",
       "2   C     20\n",
       "3   A     10\n",
       "4   B     15\n",
       "5   A     10\n",
       "6   A     10"
      ]
     },
     "execution_count": 18,
     "metadata": {},
     "output_type": "execute_result"
    }
   ],
   "source": [
    "df=pd.DataFrame({\"key\":[\"A\",\"B\",\"C\",\"A\",\"B\",\"A\",\"A\"],\n",
    "             \"sales\":[10,15,20,10,15,10,10]})\n",
    "df"
   ]
  },
  {
   "cell_type": "code",
   "execution_count": 19,
   "metadata": {},
   "outputs": [
    {
     "name": "stdout",
     "output_type": "stream",
     "text": [
      "A 40\n",
      "B 30\n",
      "C 20\n"
     ]
    }
   ],
   "source": [
    "for i in df[\"key\"].value_counts().index:\n",
    "    print(i,df.loc[df[\"key\"]==i,\"sales\"].sum())# 统计各个key对应的销售和"
   ]
  },
  {
   "cell_type": "code",
   "execution_count": null,
   "metadata": {},
   "outputs": [],
   "source": []
  }
 ],
 "metadata": {
  "kernelspec": {
   "display_name": "Python 3",
   "language": "python",
   "name": "python3"
  },
  "language_info": {
   "codemirror_mode": {
    "name": "ipython",
    "version": 3
   },
   "file_extension": ".py",
   "mimetype": "text/x-python",
   "name": "python",
   "nbconvert_exporter": "python",
   "pygments_lexer": "ipython3",
   "version": "3.8.5"
  }
 },
 "nbformat": 4,
 "nbformat_minor": 4
}
